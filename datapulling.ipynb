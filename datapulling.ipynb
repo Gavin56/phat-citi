{
 "cells": [
  {
   "cell_type": "markdown",
   "metadata": {},
   "source": [
    "# We will be using yelp api to pull information on restuarants\n",
    "# For now the intention is to create an MVP(minimum value product)"
   ]
  },
  {
   "cell_type": "code",
   "execution_count": 2,
   "metadata": {},
   "outputs": [],
   "source": [
    "import pandas as pd\n",
    "import requests\n",
    "from config import api_key"
   ]
  },
  {
   "cell_type": "code",
   "execution_count": null,
   "metadata": {},
   "outputs": [],
   "source": [
    "# Url to the yelp api\n",
    "url = 'https://api.yelp.com/v3'\n",
    "\n",
    "#Creating a parameter variable to use for calls\n",
    "## TODO: Need to discuss what parameters we want to put in.\n",
    "params = {}\n",
    "\n",
    "# Get the response that we want\n",
    "yelp_response = requests.get(url, params = params)\n",
    "\n",
    "# We would like to have the response in a json format.\n",
    "yelp_json = yelp_response.json()"
   ]
  },
  {
   "cell_type": "code",
   "execution_count": null,
   "metadata": {},
   "outputs": [],
   "source": []
  }
 ],
 "metadata": {
  "kernelspec": {
   "display_name": "Python 3",
   "language": "python",
   "name": "python3"
  },
  "language_info": {
   "codemirror_mode": {
    "name": "ipython",
    "version": 3
   },
   "file_extension": ".py",
   "mimetype": "text/x-python",
   "name": "python",
   "nbconvert_exporter": "python",
   "pygments_lexer": "ipython3",
   "version": "3.8.5"
  }
 },
 "nbformat": 4,
 "nbformat_minor": 4
}
